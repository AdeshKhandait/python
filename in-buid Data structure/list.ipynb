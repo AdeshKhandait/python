{
 "cells": [
  {
   "cell_type": "code",
   "execution_count": 1,
   "id": "8c66debf",
   "metadata": {},
   "outputs": [
    {
     "name": "stdout",
     "output_type": "stream",
     "text": [
      "[6, 7, 2, 78, 29, 2, 9, 2, 989, 11, 1]\n"
     ]
    }
   ],
   "source": [
    "lst = [6,7,2,78,29,2,9,2,989,11,1]\n",
    "print(lst)"
   ]
  },
  {
   "cell_type": "code",
   "execution_count": 3,
   "id": "031c54c4",
   "metadata": {},
   "outputs": [
    {
     "name": "stdout",
     "output_type": "stream",
     "text": [
      "[6, 7, 2, 78, 29, 2, 9, 555, 989, 11, 1]\n"
     ]
    }
   ],
   "source": [
    "lst[7] = 555\n",
    "print(lst)"
   ]
  },
  {
   "cell_type": "code",
   "execution_count": 4,
   "id": "c7ff49b8",
   "metadata": {},
   "outputs": [
    {
     "data": {
      "text/plain": [
       "list"
      ]
     },
     "execution_count": 4,
     "metadata": {},
     "output_type": "execute_result"
    }
   ],
   "source": [
    "type(lst)"
   ]
  },
  {
   "cell_type": "markdown",
   "id": "38a4bbaf",
   "metadata": {},
   "source": [
    "## Index/Slicing"
   ]
  },
  {
   "cell_type": "code",
   "execution_count": 6,
   "id": "84e92430",
   "metadata": {},
   "outputs": [
    {
     "name": "stdout",
     "output_type": "stream",
     "text": [
      "[1, 11, 989, 555, 9, 2, 29, 78, 2, 7, 6]\n"
     ]
    }
   ],
   "source": [
    "print(lst[::-1])"
   ]
  },
  {
   "cell_type": "code",
   "execution_count": 19,
   "id": "0a54f4e1",
   "metadata": {},
   "outputs": [
    {
     "name": "stdout",
     "output_type": "stream",
     "text": [
      "[6, 7, 2, 78, 29, 2, 9, 2, 989, 11, 1]\n",
      "[6, 7, 2, 78, 29, 2]\n"
     ]
    }
   ],
   "source": [
    "lst = [6,7,2,78,29,2,9,2,989,11,1]\n",
    "print(lst)\n",
    "lst = lst[0:6]\n",
    "print(lst)"
   ]
  },
  {
   "cell_type": "markdown",
   "id": "e8dfb7a5",
   "metadata": {},
   "source": [
    "## Method for lists\n",
    "- append\n",
    "- insert \n",
    "- pop\n",
    "- remove\n",
    "- reverse\n",
    "- sort \n",
    "- extend"
   ]
  },
  {
   "cell_type": "code",
   "execution_count": 21,
   "id": "623e6bc7",
   "metadata": {},
   "outputs": [
    {
     "name": "stdout",
     "output_type": "stream",
     "text": [
      "[5, 6, 7, 'y', 'Adesh']\n"
     ]
    }
   ],
   "source": [
    "lst2 = [5,6,7,'y',\"Adesh\"]\n",
    "print(lst2)"
   ]
  },
  {
   "cell_type": "code",
   "execution_count": 23,
   "id": "1ba40fba",
   "metadata": {},
   "outputs": [],
   "source": []
  },
  {
   "cell_type": "code",
   "execution_count": 24,
   "id": "e689d367",
   "metadata": {},
   "outputs": [],
   "source": []
  },
  {
   "cell_type": "code",
   "execution_count": null,
   "id": "6ccdf640",
   "metadata": {},
   "outputs": [],
   "source": []
  }
 ],
 "metadata": {
  "kernelspec": {
   "display_name": "Python 3 (ipykernel)",
   "language": "python",
   "name": "python3"
  },
  "language_info": {
   "codemirror_mode": {
    "name": "ipython",
    "version": 3
   },
   "file_extension": ".py",
   "mimetype": "text/x-python",
   "name": "python",
   "nbconvert_exporter": "python",
   "pygments_lexer": "ipython3",
   "version": "3.9.12"
  }
 },
 "nbformat": 4,
 "nbformat_minor": 5
}
