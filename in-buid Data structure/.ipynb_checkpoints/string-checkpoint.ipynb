{
 "cells": [
  {
   "cell_type": "code",
   "execution_count": null,
   "id": "806dc046",
   "metadata": {},
   "outputs": [],
   "source": [
    "# String\n",
    "- follows 0 indexing\n",
    "- also allow +ve and -ve indexing\n"
   ]
  },
  {
   "cell_type": "code",
   "execution_count": 17,
   "id": "c158e927",
   "metadata": {},
   "outputs": [
    {
     "name": "stdout",
     "output_type": "stream",
     "text": [
      "<class 'str'>\n",
      "Adesh Khandait\n",
      "d\n",
      "14\n",
      "i\n"
     ]
    }
   ],
   "source": [
    "strn = \"Adesh Khandait\"\n",
    "\n",
    "print(type(strn))\n",
    "print(strn)\n",
    "print(strn[1])\n",
    "print(len(strn))\n",
    "print(strn[-2])"
   ]
  },
  {
   "cell_type": "markdown",
   "id": "4c6963f5",
   "metadata": {},
   "source": [
    "## Slicing "
   ]
  },
  {
   "cell_type": "code",
   "execution_count": 3,
   "id": "013dd3fb",
   "metadata": {},
   "outputs": [
    {
     "name": "stdout",
     "output_type": "stream",
     "text": [
      "Adesh Khandait\n"
     ]
    }
   ],
   "source": [
    "print(strn)"
   ]
  },
  {
   "cell_type": "code",
   "execution_count": 9,
   "id": "4ed96f90",
   "metadata": {},
   "outputs": [
    {
     "name": "stdout",
     "output_type": "stream",
     "text": [
      "esh Khanda\n"
     ]
    }
   ],
   "source": [
    "print(strn[-12:-2])"
   ]
  },
  {
   "cell_type": "code",
   "execution_count": 11,
   "id": "6524dc0a",
   "metadata": {},
   "outputs": [
    {
     "name": "stdout",
     "output_type": "stream",
     "text": [
      "Adesh Khandait\n"
     ]
    }
   ],
   "source": [
    "print(strn[:])"
   ]
  },
  {
   "cell_type": "code",
   "execution_count": 12,
   "id": "494f7a1f",
   "metadata": {},
   "outputs": [
    {
     "name": "stdout",
     "output_type": "stream",
     "text": [
      "desh \n"
     ]
    }
   ],
   "source": [
    "print(strn[1:6:1])"
   ]
  },
  {
   "cell_type": "code",
   "execution_count": 13,
   "id": "7ddf4fdb",
   "metadata": {},
   "outputs": [
    {
     "name": "stdout",
     "output_type": "stream",
     "text": [
      "ehK\n"
     ]
    }
   ],
   "source": [
    "print(strn[2:8:2])"
   ]
  },
  {
   "cell_type": "markdown",
   "id": "7d080643",
   "metadata": {},
   "source": [
    "### Reverse a stirng\n"
   ]
  },
  {
   "cell_type": "code",
   "execution_count": 16,
   "id": "f23a9cae",
   "metadata": {},
   "outputs": [
    {
     "name": "stdout",
     "output_type": "stream",
     "text": [
      "tiadnahK hsedA\n"
     ]
    }
   ],
   "source": [
    "print(strn[::-1])"
   ]
  },
  {
   "cell_type": "markdown",
   "id": "2d521726",
   "metadata": {},
   "source": [
    "## String Methods"
   ]
  },
  {
   "cell_type": "code",
   "execution_count": 29,
   "id": "a47897dc",
   "metadata": {},
   "outputs": [
    {
     "name": "stdout",
     "output_type": "stream",
     "text": [
      "Bol Bachan\n"
     ]
    }
   ],
   "source": [
    "strn = \"Bol Bachan\"\n",
    "print(strn)"
   ]
  },
  {
   "cell_type": "code",
   "execution_count": 23,
   "id": "2a47a1d1",
   "metadata": {},
   "outputs": [
    {
     "data": {
      "text/plain": [
       "'BOL BACHAN'"
      ]
     },
     "execution_count": 23,
     "metadata": {},
     "output_type": "execute_result"
    }
   ],
   "source": [
    "# UpperCase\n",
    "strn.upper()"
   ]
  },
  {
   "cell_type": "code",
   "execution_count": 24,
   "id": "500582c7",
   "metadata": {},
   "outputs": [
    {
     "data": {
      "text/plain": [
       "'bol bachan'"
      ]
     },
     "execution_count": 24,
     "metadata": {},
     "output_type": "execute_result"
    }
   ],
   "source": [
    "#LowerCase\n",
    "strn.lower()"
   ]
  },
  {
   "cell_type": "code",
   "execution_count": 30,
   "id": "fcf238d6",
   "metadata": {},
   "outputs": [
    {
     "data": {
      "text/plain": [
       "['Bol', 'Bachan']"
      ]
     },
     "execution_count": 30,
     "metadata": {},
     "output_type": "execute_result"
    }
   ],
   "source": [
    "#Split\n",
    "strn.split()"
   ]
  },
  {
   "cell_type": "code",
   "execution_count": 78,
   "id": "eaa4fabe",
   "metadata": {},
   "outputs": [
    {
     "name": "stdout",
     "output_type": "stream",
     "text": [
      "Enter the string: \n"
     ]
    }
   ],
   "source": [
    "#strip\n",
    "new_strn = input(\"Enter the string: \")"
   ]
  },
  {
   "cell_type": "code",
   "execution_count": 79,
   "id": "2d5b3e77",
   "metadata": {},
   "outputs": [
    {
     "data": {
      "text/plain": [
       "''"
      ]
     },
     "execution_count": 79,
     "metadata": {},
     "output_type": "execute_result"
    }
   ],
   "source": [
    "new_strn"
   ]
  },
  {
   "cell_type": "code",
   "execution_count": 38,
   "id": "b4d0d21f",
   "metadata": {},
   "outputs": [
    {
     "data": {
      "text/plain": [
       "'Python is fun!  '"
      ]
     },
     "execution_count": 38,
     "metadata": {},
     "output_type": "execute_result"
    }
   ],
   "source": [
    "new_strn.lstrip()"
   ]
  },
  {
   "cell_type": "code",
   "execution_count": 39,
   "id": "873c436f",
   "metadata": {},
   "outputs": [
    {
     "data": {
      "text/plain": [
       "'   Python is fun!'"
      ]
     },
     "execution_count": 39,
     "metadata": {},
     "output_type": "execute_result"
    }
   ],
   "source": [
    "new_strn.rstrip()"
   ]
  },
  {
   "cell_type": "code",
   "execution_count": 40,
   "id": "9aea543a",
   "metadata": {},
   "outputs": [
    {
     "data": {
      "text/plain": [
       "'Python is fun!'"
      ]
     },
     "execution_count": 40,
     "metadata": {},
     "output_type": "execute_result"
    }
   ],
   "source": [
    "new_strn.strip()"
   ]
  },
  {
   "cell_type": "code",
   "execution_count": 42,
   "id": "0a733109",
   "metadata": {},
   "outputs": [
    {
     "data": {
      "text/plain": [
       "7"
      ]
     },
     "execution_count": 42,
     "metadata": {},
     "output_type": "execute_result"
    }
   ],
   "source": [
    "#find\n",
    "new_strn.find('o')"
   ]
  },
  {
   "cell_type": "code",
   "execution_count": 43,
   "id": "8771dd84",
   "metadata": {},
   "outputs": [
    {
     "data": {
      "text/plain": [
       "-1"
      ]
     },
     "execution_count": 43,
     "metadata": {},
     "output_type": "execute_result"
    }
   ],
   "source": [
    "new_strn.find('w')"
   ]
  },
  {
   "cell_type": "code",
   "execution_count": 46,
   "id": "aec6603b",
   "metadata": {},
   "outputs": [
    {
     "data": {
      "text/plain": [
       "-1"
      ]
     },
     "execution_count": 46,
     "metadata": {},
     "output_type": "execute_result"
    }
   ],
   "source": [
    "new_strn.find('n',5,7)"
   ]
  },
  {
   "cell_type": "code",
   "execution_count": 48,
   "id": "02dddf8c",
   "metadata": {},
   "outputs": [
    {
     "data": {
      "text/plain": [
       "'   Python is EasY!  '"
      ]
     },
     "execution_count": 48,
     "metadata": {},
     "output_type": "execute_result"
    }
   ],
   "source": [
    "#replace\n",
    "new_strn.replace(\"fun\",\"EasY\")"
   ]
  },
  {
   "cell_type": "code",
   "execution_count": 50,
   "id": "45c82d19",
   "metadata": {},
   "outputs": [
    {
     "name": "stdout",
     "output_type": "stream",
     "text": [
      "   Python Not fun!  \n"
     ]
    }
   ],
   "source": [
    "new_strn = new_strn.replace(\"is\",\"Not\")\n",
    "print(new_strn)"
   ]
  },
  {
   "cell_type": "code",
   "execution_count": 51,
   "id": "d326fa28",
   "metadata": {},
   "outputs": [
    {
     "name": "stdout",
     "output_type": "stream",
     "text": [
      "   python not fun!  \n",
      "   Python Not Fun!  \n"
     ]
    }
   ],
   "source": [
    "print(new_strn.lower())\n",
    "print(new_strn.title())"
   ]
  },
  {
   "cell_type": "markdown",
   "id": "4f91cd55",
   "metadata": {},
   "source": [
    "### String Operation"
   ]
  },
  {
   "cell_type": "code",
   "execution_count": 57,
   "id": "1134f2c5",
   "metadata": {},
   "outputs": [
    {
     "data": {
      "text/plain": [
       "'cool3'"
      ]
     },
     "execution_count": 57,
     "metadata": {},
     "output_type": "execute_result"
    }
   ],
   "source": [
    "#concat\n",
    "strn1 = \"Adesh\"\n",
    "strn2 = \"Khandait\"\n",
    "strn1 + strn2\n",
    "# \"Cool\" + 3\n",
    "\"Cool\".lower() + str(3)"
   ]
  },
  {
   "cell_type": "code",
   "execution_count": 58,
   "id": "64b5110c",
   "metadata": {},
   "outputs": [
    {
     "data": {
      "text/plain": [
       "'Damn!Damn!Damn!Damn!Damn!'"
      ]
     },
     "execution_count": 58,
     "metadata": {},
     "output_type": "execute_result"
    }
   ],
   "source": [
    "\"Damn!\"*5"
   ]
  },
  {
   "cell_type": "markdown",
   "id": "c0294a4b",
   "metadata": {},
   "source": [
    "## Question"
   ]
  },
  {
   "cell_type": "code",
   "execution_count": 96,
   "id": "8c2545a8",
   "metadata": {
    "scrolled": true
   },
   "outputs": [
    {
     "name": "stdout",
     "output_type": "stream",
     "text": [
      "12\n"
     ]
    }
   ],
   "source": [
    "#Q1: Number of Vowels\n",
    "inp_str = \"This is the input string and count the vowel\"\n",
    "count = 0\n",
    "for i in inp_str:\n",
    "    if i in \"aeiouAEIOU\":\n",
    "        count+=1\n",
    "print(count)"
   ]
  },
  {
   "cell_type": "code",
   "execution_count": null,
   "id": "87115cd9",
   "metadata": {},
   "outputs": [],
   "source": [
    "#Q2: Check for Pallindrome\n",
    "inp = input(\"Enter the string: \")"
   ]
  },
  {
   "cell_type": "code",
   "execution_count": null,
   "id": "09d7db1b",
   "metadata": {},
   "outputs": [],
   "source": [
    "rev_str = inp_str[::-1]\n",
    "\n",
    "if(inp_str == rev_str):\n",
    "    print(\"Pallindrome\")\n",
    "else:\n",
    "    print(\"Not Pallindrome\")\n",
    "    "
   ]
  },
  {
   "cell_type": "code",
   "execution_count": null,
   "id": "8b45cead",
   "metadata": {},
   "outputs": [],
   "source": []
  }
 ],
 "metadata": {
  "kernelspec": {
   "display_name": "Python 3 (ipykernel)",
   "language": "python",
   "name": "python3"
  },
  "language_info": {
   "codemirror_mode": {
    "name": "ipython",
    "version": 3
   },
   "file_extension": ".py",
   "mimetype": "text/x-python",
   "name": "python",
   "nbconvert_exporter": "python",
   "pygments_lexer": "ipython3",
   "version": "3.9.12"
  }
 },
 "nbformat": 4,
 "nbformat_minor": 5
}
