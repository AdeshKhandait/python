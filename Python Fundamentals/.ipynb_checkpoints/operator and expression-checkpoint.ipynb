{
 "cells": [
  {
   "cell_type": "markdown",
   "id": "c192293b",
   "metadata": {},
   "source": [
    "# Arithmetic Operators"
   ]
  },
  {
   "cell_type": "code",
   "execution_count": 31,
   "id": "c406d84d",
   "metadata": {},
   "outputs": [
    {
     "name": "stdout",
     "output_type": "stream",
     "text": [
      "a + b = 14\n",
      "a - b = -4\n",
      "a * b = 45\n",
      "a / b = 0.5555555555555556\n",
      "a ** b = 1953125\n",
      "a // b = 0\n"
     ]
    }
   ],
   "source": [
    "a = 5\n",
    "b = 9\n",
    "\n",
    "add = a + b\n",
    "sub = a - b\n",
    "mult = a * b\n",
    "div  = a/b\n",
    "exp = a ** b #Exponental a to power b\n",
    "f_div = a // b\n",
    "\n",
    "print(\"a + b = {}\".format(add))\n",
    "print(\"a - b = {}\".format(sub))\n",
    "print(\"a * b = {}\".format(mult))\n",
    "print(\"a / b = {}\".format(div))\n",
    "print(\"a ** b = {}\".format(exp))\n",
    "print(\"a // b = {}\".format(f_div))"
   ]
  },
  {
   "cell_type": "markdown",
   "id": "c959e445",
   "metadata": {},
   "source": [
    "## Comparator Operator"
   ]
  },
  {
   "cell_type": "code",
   "execution_count": 32,
   "id": "983c65c7",
   "metadata": {},
   "outputs": [
    {
     "name": "stdout",
     "output_type": "stream",
     "text": [
      "a>b : False\n",
      "a<b : True\n",
      "a>=b : False\n",
      "a<=b : True\n",
      "a==b : False\n",
      "a!=b : True\n"
     ]
    }
   ],
   "source": [
    "a = 6\n",
    "b = 8\n",
    "print(\"a>b : {}\".format(a>b))\n",
    "print(\"a<b : {}\".format(a<b))\n",
    "print(\"a>=b : {}\".format(a>=b))\n",
    "print(\"a<=b : {}\".format(a<=b))\n",
    "print(\"a==b : {}\".format(a==b))\n",
    "print(\"a!=b : {}\".format(a!=b))"
   ]
  },
  {
   "cell_type": "markdown",
   "id": "912d59aa",
   "metadata": {},
   "source": [
    "# Logical Operator"
   ]
  },
  {
   "cell_type": "code",
   "execution_count": 33,
   "id": "a45c0860",
   "metadata": {},
   "outputs": [
    {
     "name": "stdout",
     "output_type": "stream",
     "text": [
      "(10 > 5) and ( 6 < 9) : True\n",
      "(10 > 5) or ( 6 < 9) : True\n",
      "not((10 > 5) and ( 6 < 9)) : False\n"
     ]
    }
   ],
   "source": [
    "print(\"(10 > 5) and ( 6 < 9) : {}\".format((10 > 5) and ( 6 < 9)))\n",
    "\n",
    "print(\"(10 > 5) or ( 6 < 9) : {}\".format((10 > 5) or ( 6 < 9)))\n",
    "\n",
    "print(\"not((10 > 5) and ( 6 < 9)) : {}\".format(not((10 > 5) or (6>9))))\n"
   ]
  },
  {
   "cell_type": "markdown",
   "id": "8f7dc251",
   "metadata": {},
   "source": [
    "# Bitwise Operator\n",
    "\n",
    "- & AND operator on BIT\n",
    "- | OR operatir on BIT\n",
    "- ^ XOR operator on BIT"
   ]
  },
  {
   "cell_type": "code",
   "execution_count": 46,
   "id": "ad3415a5",
   "metadata": {},
   "outputs": [
    {
     "data": {
      "text/plain": [
       "'0b1'"
      ]
     },
     "execution_count": 46,
     "metadata": {},
     "output_type": "execute_result"
    }
   ],
   "source": [
    "bin(1) #produce binary value on number"
   ]
  },
  {
   "cell_type": "code",
   "execution_count": 37,
   "id": "efcdf2a1",
   "metadata": {},
   "outputs": [
    {
     "name": "stdout",
     "output_type": "stream",
     "text": [
      "10 & 5 : 0\n",
      "10 | 5 : 15\n",
      "10 ^ 5 : 15\n"
     ]
    }
   ],
   "source": [
    "print( \"10 & 5 : {}\".format(10 & 5))\n",
    "print( \"10 | 5 : {}\".format(10 | 5))\n",
    "print( \"10 ^ 5 : {}\".format(10 ^ 5))"
   ]
  },
  {
   "cell_type": "markdown",
   "id": "1d829f89",
   "metadata": {},
   "source": [
    "# Assignment Operator\n",
    "- =\n",
    "- + \n",
    "- +=\n",
    "- *="
   ]
  },
  {
   "cell_type": "code",
   "execution_count": 52,
   "id": "2f4c752b",
   "metadata": {},
   "outputs": [
    {
     "name": "stdout",
     "output_type": "stream",
     "text": [
      "8\n",
      "9\n",
      "18\n"
     ]
    }
   ],
   "source": [
    "a = 6\n",
    "a = a + 2\n",
    "print(a)\n",
    "a += 1\n",
    "print(a)\n",
    "a *= 2\n",
    "print(a)"
   ]
  },
  {
   "cell_type": "markdown",
   "id": "98f09618",
   "metadata": {},
   "source": [
    "### Multiple assignment "
   ]
  },
  {
   "cell_type": "code",
   "execution_count": 53,
   "id": "caafe027",
   "metadata": {},
   "outputs": [
    {
     "name": "stdout",
     "output_type": "stream",
     "text": [
      "ML 5 4.68\n"
     ]
    }
   ],
   "source": [
    "a, b, c = \"ML\", 5 , 4.68\n",
    "print(a,b,c)"
   ]
  },
  {
   "cell_type": "markdown",
   "id": "1c8c7a6a",
   "metadata": {},
   "source": [
    "# Special Operator\n",
    "\n",
    "### Membership Operator\n",
    "\n",
    "- in\n",
    "\n",
    "### Identity Operator\n",
    "\n",
    "- is \n",
    "- is not\n"
   ]
  },
  {
   "cell_type": "code",
   "execution_count": 55,
   "id": "094c0e99",
   "metadata": {},
   "outputs": [],
   "source": [
    "greeting = \"Good Morning\""
   ]
  },
  {
   "cell_type": "code",
   "execution_count": 56,
   "id": "d8585c0f",
   "metadata": {},
   "outputs": [
    {
     "data": {
      "text/plain": [
       "True"
      ]
     },
     "execution_count": 56,
     "metadata": {},
     "output_type": "execute_result"
    }
   ],
   "source": [
    "\"Good\" in greeting"
   ]
  },
  {
   "cell_type": "code",
   "execution_count": 57,
   "id": "f0bb9ebd",
   "metadata": {},
   "outputs": [
    {
     "data": {
      "text/plain": [
       "False"
      ]
     },
     "execution_count": 57,
     "metadata": {},
     "output_type": "execute_result"
    }
   ],
   "source": [
    "\"Bad\" in greeting"
   ]
  },
  {
   "cell_type": "code",
   "execution_count": 59,
   "id": "eb54cfdc",
   "metadata": {},
   "outputs": [
    {
     "data": {
      "text/plain": [
       "True"
      ]
     },
     "execution_count": 59,
     "metadata": {},
     "output_type": "execute_result"
    }
   ],
   "source": [
    "\"Bad\" not in greeting"
   ]
  },
  {
   "cell_type": "markdown",
   "id": "1b37bbbd",
   "metadata": {},
   "source": [
    "\"is\" actually check whether two operator have memory of not  "
   ]
  },
  {
   "cell_type": "code",
   "execution_count": 62,
   "id": "7b4042cf",
   "metadata": {},
   "outputs": [],
   "source": [
    "num1 = 5000\n",
    "num2 = 300"
   ]
  },
  {
   "cell_type": "code",
   "execution_count": 64,
   "id": "a946d633",
   "metadata": {},
   "outputs": [
    {
     "data": {
      "text/plain": [
       "1217141726640"
      ]
     },
     "execution_count": 64,
     "metadata": {},
     "output_type": "execute_result"
    }
   ],
   "source": [
    "id(num1)"
   ]
  },
  {
   "cell_type": "code",
   "execution_count": 65,
   "id": "f6fc5afd",
   "metadata": {},
   "outputs": [
    {
     "data": {
      "text/plain": [
       "1217141726704"
      ]
     },
     "execution_count": 65,
     "metadata": {},
     "output_type": "execute_result"
    }
   ],
   "source": [
    "id(num2)"
   ]
  },
  {
   "cell_type": "code",
   "execution_count": 66,
   "id": "eaa09b3b",
   "metadata": {},
   "outputs": [
    {
     "data": {
      "text/plain": [
       "True"
      ]
     },
     "execution_count": 66,
     "metadata": {},
     "output_type": "execute_result"
    }
   ],
   "source": [
    "num1 is num1"
   ]
  },
  {
   "cell_type": "code",
   "execution_count": 67,
   "id": "2f62c44d",
   "metadata": {},
   "outputs": [
    {
     "data": {
      "text/plain": [
       "False"
      ]
     },
     "execution_count": 67,
     "metadata": {},
     "output_type": "execute_result"
    }
   ],
   "source": [
    "num1 is num2"
   ]
  },
  {
   "cell_type": "code",
   "execution_count": 70,
   "id": "e547d1da",
   "metadata": {},
   "outputs": [
    {
     "name": "stdout",
     "output_type": "stream",
     "text": [
      "num1 == num2: True\n",
      "num1 is num2: False\n"
     ]
    }
   ],
   "source": [
    "num3 = 5000\n",
    "print(\"num1 == num2: {}\".format(num1 == num3))\n",
    "print(\"num1 is num2: {}\".format(num1 is num3)) # Because they have 2 different id or memory location"
   ]
  },
  {
   "cell_type": "code",
   "execution_count": 72,
   "id": "73fe5270",
   "metadata": {},
   "outputs": [
    {
     "data": {
      "text/plain": [
       "True"
      ]
     },
     "execution_count": 72,
     "metadata": {},
     "output_type": "execute_result"
    }
   ],
   "source": [
    "num1 is not num2 #because both two different id"
   ]
  },
  {
   "cell_type": "code",
   "execution_count": null,
   "id": "61b023fd",
   "metadata": {},
   "outputs": [],
   "source": []
  }
 ],
 "metadata": {
  "kernelspec": {
   "display_name": "Python 3 (ipykernel)",
   "language": "python",
   "name": "python3"
  },
  "language_info": {
   "codemirror_mode": {
    "name": "ipython",
    "version": 3
   },
   "file_extension": ".py",
   "mimetype": "text/x-python",
   "name": "python",
   "nbconvert_exporter": "python",
   "pygments_lexer": "ipython3",
   "version": "3.9.12"
  }
 },
 "nbformat": 4,
 "nbformat_minor": 5
}
