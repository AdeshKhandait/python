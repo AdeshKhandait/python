{
 "cells": [
  {
   "cell_type": "markdown",
   "id": "ecd7d007",
   "metadata": {},
   "source": [
    "# Control Flow : Conditional Statements\n",
    "- if\n",
    "- else\n",
    "- elif"
   ]
  },
  {
   "cell_type": "markdown",
   "id": "36cebbfe",
   "metadata": {},
   "source": [
    "### If statement"
   ]
  },
  {
   "cell_type": "code",
   "execution_count": 6,
   "id": "f6a76b5b",
   "metadata": {},
   "outputs": [
    {
     "name": "stdout",
     "output_type": "stream",
     "text": [
      "Enter your age: 16\n",
      "Grow up Kid!! come after 2 years\n"
     ]
    }
   ],
   "source": [
    "age = int(input(\"Enter your age: \"))\n",
    "\n",
    "if(age>=18):\n",
    "    print(\"You can vote!\")\n",
    "else:\n",
    "    print(\"Grow up Kid!! come after {} years\".format(18-age))"
   ]
  },
  {
   "cell_type": "markdown",
   "id": "75710fcd",
   "metadata": {},
   "source": [
    "# Indentation\n",
    "- each block or indentation must have 4 block"
   ]
  },
  {
   "cell_type": "code",
   "execution_count": 15,
   "id": "ae9259ef",
   "metadata": {},
   "outputs": [
    {
     "name": "stdout",
     "output_type": "stream",
     "text": [
      "Enter the Number: 0\n",
      "Zero\n"
     ]
    }
   ],
   "source": [
    "num = int(input(\"Enter the Number: \"))\n",
    "\n",
    "if (num > 0):\n",
    "    print(\"Positive Number\")\n",
    "elif (num == 0):\n",
    "    print(\"Zero\")\n",
    "else:\n",
    "    print(\"Negative Number\")"
   ]
  },
  {
   "cell_type": "markdown",
   "id": "d7d19f7a",
   "metadata": {},
   "source": [
    "# Nesting\n"
   ]
  },
  {
   "cell_type": "code",
   "execution_count": 18,
   "id": "22cd7e75",
   "metadata": {},
   "outputs": [
    {
     "name": "stdout",
     "output_type": "stream",
     "text": [
      "Enter the num: 0\n",
      "Zero\n"
     ]
    }
   ],
   "source": [
    "num = int(input(\"Enter the num: \"))\n",
    "\n",
    "if(num>=0):\n",
    "    if(num==0):\n",
    "        print(\"Zero\")\n",
    "    else:\n",
    "        print(\"Positive Number\")\n",
    "else:\n",
    "    print(\"Negative\")"
   ]
  },
  {
   "cell_type": "markdown",
   "id": "271b9f0e",
   "metadata": {},
   "source": [
    "## Q: Largest number among 3"
   ]
  },
  {
   "cell_type": "code",
   "execution_count": 22,
   "id": "50ddc6f1",
   "metadata": {},
   "outputs": [
    {
     "name": "stdout",
     "output_type": "stream",
     "text": [
      "Enter the number: 5\n",
      "Enter the number: 5\n",
      "Enter the number: 5\n",
      "5 is largest\n"
     ]
    }
   ],
   "source": [
    "a = int(input(\"Enter the number: \"))\n",
    "b = int(input(\"Enter the number: \"))\n",
    "c = int(input(\"Enter the number: \"))\n",
    "\n",
    "if(a>=b):\n",
    "    if(a>=c):\n",
    "        print(\"{} is largest\".format(a))\n",
    "    else:\n",
    "        print(\"{} is largest\".format(c))\n",
    "elif(b>=c):\n",
    "    print(\"{} is largest\".format(b))\n",
    "else:\n",
    "    print(\"{} is largest\".format(c))"
   ]
  },
  {
   "cell_type": "markdown",
   "id": "0f14ff31",
   "metadata": {},
   "source": [
    "# Control Flow: Iterator/Loops\n",
    "- while \n",
    "- for loop\n"
   ]
  },
  {
   "cell_type": "markdown",
   "id": "0b439b12",
   "metadata": {},
   "source": [
    "### While loop\n",
    "## Q: Print 1 to 20 Even"
   ]
  },
  {
   "cell_type": "code",
   "execution_count": 31,
   "id": "d3069ccd",
   "metadata": {},
   "outputs": [
    {
     "name": "stdout",
     "output_type": "stream",
     "text": [
      "2, 4, 6, 8, 10, 12, 14, 16, 18, 20, "
     ]
    }
   ],
   "source": [
    "#intialization \n",
    "i = 1\n",
    "while(i<=20):\n",
    "    #body of loop or task to be perfomed\n",
    "    if(i%2 == 0):\n",
    "        print(i, end = \", \")\n",
    "    #Updation\n",
    "    i += 1"
   ]
  },
  {
   "cell_type": "markdown",
   "id": "24eba0cc",
   "metadata": {},
   "source": [
    "### For loop\n",
    "- for in loop\n",
    "### Q: Print the table"
   ]
  },
  {
   "cell_type": "code",
   "execution_count": 46,
   "id": "f1da3f7a",
   "metadata": {},
   "outputs": [
    {
     "name": "stdout",
     "output_type": "stream",
     "text": [
      "Enter the number99999999999999\n",
      "99999999999999 x 1 = 99999999999999\n",
      "99999999999999 x 2 = 199999999999998\n",
      "99999999999999 x 3 = 299999999999997\n",
      "99999999999999 x 4 = 399999999999996\n",
      "99999999999999 x 5 = 499999999999995\n",
      "99999999999999 x 6 = 599999999999994\n",
      "99999999999999 x 7 = 699999999999993\n",
      "99999999999999 x 8 = 799999999999992\n",
      "99999999999999 x 9 = 899999999999991\n",
      "99999999999999 x 10 = 999999999999990\n",
      "Done!\n"
     ]
    }
   ],
   "source": [
    "n = int(input(\"Enter the number\"))\n",
    "i = 1\n",
    "for i in range(1,11):\n",
    "    print(\"{} x {} = {}\".format(n,i,n*i))\n",
    "else: \n",
    "    #optional\n",
    "    print(\"Done!\")"
   ]
  },
  {
   "cell_type": "markdown",
   "id": "2aba92a5",
   "metadata": {},
   "source": [
    "## Pattern Question\n",
    "\n",
    "## 1. Q \n",
    "n = 5\n",
    "#### *\n",
    "#### **\n",
    "#### ***\n",
    "##### ****\n",
    "#### *****"
   ]
  },
  {
   "cell_type": "code",
   "execution_count": 3,
   "id": "1670a81a",
   "metadata": {},
   "outputs": [
    {
     "name": "stdout",
     "output_type": "stream",
     "text": [
      "* \n",
      "* * \n",
      "* * * \n",
      "* * * * \n",
      "* * * * * \n"
     ]
    }
   ],
   "source": [
    "num = 5\n",
    "\n",
    "for i in range(1, num+1):\n",
    "    for j in range(1,i+1):\n",
    "        print(\"*\",end = \" \")\n",
    "    print(\"\")"
   ]
  },
  {
   "cell_type": "markdown",
   "id": "522f7c2f",
   "metadata": {},
   "source": [
    "### Alternative  Method"
   ]
  },
  {
   "cell_type": "code",
   "execution_count": 19,
   "id": "853c2001",
   "metadata": {},
   "outputs": [
    {
     "name": "stdout",
     "output_type": "stream",
     "text": [
      "*\n",
      "**\n",
      "***\n",
      "****\n",
      "*****\n"
     ]
    }
   ],
   "source": [
    "num = 5\n",
    "for i in range(1,num +1):\n",
    "    print(\"*\"*i)\n",
    "    "
   ]
  },
  {
   "cell_type": "markdown",
   "id": "a0f002af",
   "metadata": {},
   "source": [
    "## 2. Q: reverse the pattern of question 1Q "
   ]
  },
  {
   "cell_type": "code",
   "execution_count": 17,
   "id": "5b6f18bf",
   "metadata": {},
   "outputs": [
    {
     "name": "stdout",
     "output_type": "stream",
     "text": [
      "*****\n",
      "****\n",
      "***\n",
      "**\n",
      "*\n"
     ]
    }
   ],
   "source": [
    "num = 5\n",
    "\n",
    "for i in range(num,0,-1):\n",
    "    print(\"*\"*i)"
   ]
  },
  {
   "cell_type": "markdown",
   "id": "7aa0ecc9",
   "metadata": {},
   "source": [
    "# Question on Loop"
   ]
  },
  {
   "cell_type": "markdown",
   "id": "80f6a7c1",
   "metadata": {},
   "source": [
    "### Q1: Sum of 1st natural number "
   ]
  },
  {
   "cell_type": "code",
   "execution_count": 23,
   "id": "d3d1458c",
   "metadata": {},
   "outputs": [
    {
     "name": "stdout",
     "output_type": "stream",
     "text": [
      "6\n"
     ]
    }
   ],
   "source": [
    "num = 3\n",
    "sum = 0\n",
    "for i in range(1,num+1):\n",
    "    sum = sum + i\n",
    "print(sum)"
   ]
  },
  {
   "cell_type": "markdown",
   "id": "89dfb927",
   "metadata": {},
   "source": [
    "## Q2: Prime or not"
   ]
  },
  {
   "cell_type": "code",
   "execution_count": 28,
   "id": "b0277ca1",
   "metadata": {},
   "outputs": [
    {
     "name": "stdout",
     "output_type": "stream",
     "text": [
      "Not Prime\n"
     ]
    }
   ],
   "source": [
    "num = 12\n",
    "\n",
    "for i in range(2,num):\n",
    "    if(num%i == 0):\n",
    "        print(\"Not Prime\")\n",
    "        break\n",
    "    if(i == num - 1):\n",
    "        print(\"Prime\")"
   ]
  },
  {
   "cell_type": "markdown",
   "id": "04e3e4ef",
   "metadata": {},
   "source": [
    "# Break,Continue and Pass\n",
    "- break: used to exit all coming the iteration in loop\n",
    "- continue: skip current iteration\n",
    "- pass: if want to keep a block as empty just write pass\n"
   ]
  },
  {
   "cell_type": "code",
   "execution_count": 29,
   "id": "429b3896",
   "metadata": {},
   "outputs": [
    {
     "name": "stdout",
     "output_type": "stream",
     "text": [
      "1\n",
      "2\n",
      "3\n",
      "4\n",
      "5\n",
      "6\n",
      "7\n",
      "8\n",
      "9\n",
      "10\n"
     ]
    }
   ],
   "source": [
    "for i in range(1,11):\n",
    "    print(i)"
   ]
  },
  {
   "cell_type": "code",
   "execution_count": 31,
   "id": "ff59e988",
   "metadata": {},
   "outputs": [
    {
     "name": "stdout",
     "output_type": "stream",
     "text": [
      "1\n",
      "2\n",
      "3\n",
      "4\n"
     ]
    }
   ],
   "source": [
    "for i in range(1,11):\n",
    "    if(i == 5):\n",
    "        break\n",
    "    print(i)"
   ]
  },
  {
   "cell_type": "code",
   "execution_count": 33,
   "id": "7dcc92d6",
   "metadata": {},
   "outputs": [
    {
     "name": "stdout",
     "output_type": "stream",
     "text": [
      "1\n",
      "2\n",
      "3\n",
      "4\n",
      "5\n",
      "6\n",
      "7\n",
      "8\n",
      "9\n"
     ]
    }
   ],
   "source": [
    "for i in range(1,11):\n",
    "    if(i==10):\n",
    "        continue\n",
    "    print(i)"
   ]
  },
  {
   "cell_type": "code",
   "execution_count": 34,
   "id": "8ff0929a",
   "metadata": {},
   "outputs": [],
   "source": [
    "for i in range(1,11):\n",
    "    pass"
   ]
  },
  {
   "cell_type": "code",
   "execution_count": null,
   "id": "1dfe42f2",
   "metadata": {},
   "outputs": [],
   "source": []
  }
 ],
 "metadata": {
  "kernelspec": {
   "display_name": "Python 3 (ipykernel)",
   "language": "python",
   "name": "python3"
  },
  "language_info": {
   "codemirror_mode": {
    "name": "ipython",
    "version": 3
   },
   "file_extension": ".py",
   "mimetype": "text/x-python",
   "name": "python",
   "nbconvert_exporter": "python",
   "pygments_lexer": "ipython3",
   "version": "3.9.12"
  }
 },
 "nbformat": 4,
 "nbformat_minor": 5
}
