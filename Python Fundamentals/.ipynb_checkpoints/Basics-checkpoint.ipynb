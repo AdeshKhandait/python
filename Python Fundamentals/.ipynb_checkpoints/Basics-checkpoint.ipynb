{
 "cells": [
  {
   "cell_type": "code",
   "execution_count": 14,
   "id": "660b8d9f",
   "metadata": {},
   "outputs": [
    {
     "name": "stdout",
     "output_type": "stream",
     "text": [
      "Hello World!\n",
      "Adesh Khandait 100 @ 1.5\n"
     ]
    }
   ],
   "source": [
    "# Print state\n",
    "print(\"Hello World!\")\n",
    "print(\"Adesh\", \"Khandait\", 100, \"@\",1.5)\n"
   ]
  },
  {
   "cell_type": "markdown",
   "id": "4af7edb3",
   "metadata": {},
   "source": [
    "# Variables\n",
    "\n",
    "- Cannot start with Number\n",
    "        "
   ]
  },
  {
   "cell_type": "code",
   "execution_count": 15,
   "id": "a12bfb3a",
   "metadata": {},
   "outputs": [
    {
     "name": "stdout",
     "output_type": "stream",
     "text": [
      "8 9.4 4684616134563131000000000156160313135115313513156651\n",
      "<class 'int'>\n",
      "<class 'float'>\n",
      "<class 'int'>\n"
     ]
    }
   ],
   "source": [
    "a = 8\n",
    "b = 9.4\n",
    "c = 4684616134563131000000000156160313135115313513156651\n",
    "\n",
    "print(a,b,c)\n",
    "print(type(a))\n",
    "print(type(b))\n",
    "print(type(c))"
   ]
  },
  {
   "cell_type": "markdown",
   "id": "58cfa6e2",
   "metadata": {},
   "source": [
    "Invalid"
   ]
  },
  {
   "cell_type": "code",
   "execution_count": 16,
   "id": "230c6955",
   "metadata": {
    "scrolled": true
   },
   "outputs": [
    {
     "ename": "SyntaxError",
     "evalue": "invalid syntax (1239881071.py, line 1)",
     "output_type": "error",
     "traceback": [
      "\u001b[1;36m  Input \u001b[1;32mIn [16]\u001b[1;36m\u001b[0m\n\u001b[1;33m    9abc = 6\u001b[0m\n\u001b[1;37m     ^\u001b[0m\n\u001b[1;31mSyntaxError\u001b[0m\u001b[1;31m:\u001b[0m invalid syntax\n"
     ]
    }
   ],
   "source": [
    "9abc = 6\n"
   ]
  },
  {
   "cell_type": "markdown",
   "id": "fb065faa",
   "metadata": {},
   "source": [
    "### Identifiers\n",
    "- similar to pointer"
   ]
  },
  {
   "cell_type": "code",
   "execution_count": null,
   "id": "161edefa",
   "metadata": {},
   "outputs": [],
   "source": [
    "i = 8\n",
    "id(i)"
   ]
  },
  {
   "cell_type": "code",
   "execution_count": null,
   "id": "26be67d7",
   "metadata": {},
   "outputs": [],
   "source": [
    "abc = \"Adesh Khandait\"\n",
    "id (abc)"
   ]
  },
  {
   "cell_type": "markdown",
   "id": "d2e3e0af",
   "metadata": {},
   "source": [
    "# Basic Datatype\n",
    "- int\n",
    "- float\n",
    "- string\n",
    "- bool\n",
    "- none"
   ]
  },
  {
   "cell_type": "code",
   "execution_count": 21,
   "id": "d522edb9",
   "metadata": {},
   "outputs": [
    {
     "name": "stdout",
     "output_type": "stream",
     "text": [
      "<class 'int'>\n",
      "<class 'float'>\n",
      "<class 'str'>\n",
      "<class 'bool'>\n",
      "<class 'complex'>\n",
      "<class 'NoneType'>\n"
     ]
    }
   ],
   "source": [
    "#int\n",
    "i = 8\n",
    "print(type(i))\n",
    "\n",
    "# Float\n",
    "\n",
    "b = 45.4679\n",
    "print(type(b))\n",
    "\n",
    "# String \n",
    "name = \"Adesh Khandait\"\n",
    "print(type(name))\n",
    "\n",
    "# Bool\n",
    "bo = True\n",
    "print(type(bo))\n",
    "\n",
    "# complex\n",
    "c = 5 + 6j\n",
    "print(type(c))\n",
    "# none\n",
    "d = None\n",
    "print(type(d))"
   ]
  },
  {
   "cell_type": "markdown",
   "id": "0c90a669",
   "metadata": {},
   "source": [
    "# Input and Type Casting\n",
    "\n",
    "- input() always return string data type\n",
    "- we can later type cast it\n"
   ]
  },
  {
   "cell_type": "code",
   "execution_count": 31,
   "id": "b541205a",
   "metadata": {},
   "outputs": [
    {
     "name": "stdout",
     "output_type": "stream",
     "text": [
      "Enter your Please: 5\n",
      "<class 'str'>\n",
      "<class 'int'>\n"
     ]
    }
   ],
   "source": [
    "name = input(\"Enter your Please: \")\n",
    "\n",
    "print(type(name))\n",
    "print(type(int(name)))"
   ]
  },
  {
   "cell_type": "code",
   "execution_count": 34,
   "id": "00ab63a3",
   "metadata": {},
   "outputs": [
    {
     "name": "stdout",
     "output_type": "stream",
     "text": [
      "Enter th Number please: 5.1156131\n"
     ]
    },
    {
     "data": {
      "text/plain": [
       "float"
      ]
     },
     "execution_count": 34,
     "metadata": {},
     "output_type": "execute_result"
    }
   ],
   "source": [
    "floater = float(input(\"Enter th Number please: \"))\n",
    "type(floater)"
   ]
  },
  {
   "cell_type": "markdown",
   "id": "150e38ba",
   "metadata": {},
   "source": [
    "# Mutliline state"
   ]
  },
  {
   "cell_type": "code",
   "execution_count": 36,
   "id": "cc5cbb26",
   "metadata": {},
   "outputs": [
    {
     "name": "stdout",
     "output_type": "stream",
     "text": [
      "1994\n"
     ]
    }
   ],
   "source": [
    "a = 1 + 5 +2+96+6+99+65 \\\n",
    "     + 156 + 1564\n",
    "print(a)"
   ]
  },
  {
   "cell_type": "code",
   "execution_count": 41,
   "id": "1642f61f",
   "metadata": {},
   "outputs": [
    {
     "name": "stdout",
     "output_type": "stream",
     "text": [
      "1994\n"
     ]
    }
   ],
   "source": [
    "a = (1 + 5 + 2 + 96 + 6 + 99 + 65+\n",
    "    + 156 + 1564)\n",
    "print(a)"
   ]
  },
  {
   "cell_type": "markdown",
   "id": "5e8d4348",
   "metadata": {},
   "source": [
    "# Output Formating"
   ]
  },
  {
   "cell_type": "code",
   "execution_count": 51,
   "id": "f0e7c0e5",
   "metadata": {},
   "outputs": [
    {
     "name": "stdout",
     "output_type": "stream",
     "text": [
      "Enter your name: Adesh Khandait\n",
      "Enter your age: 45\n",
      " My Name is Adesh Khandait and i am 45 years old!\n",
      "My Name is Adesh Khandait and i am 45 years old!\n",
      "My Name is 45 and i am Adesh Khandait years old!\n"
     ]
    }
   ],
   "source": [
    "name = input(\"Enter your name: \")\n",
    "age = input(\"Enter your age: \")\n",
    "\n",
    "print(\" My Name is {n} and i am {a} years old!\".format(n = name, a = age))\n",
    "print(\"My Name is {} and i am {} years old!\".format(name,age))\n",
    "print(\"My Name is {1} and i am {0} years old!\".format(name,age))\n",
    "print(\"My Name is {0} and i am {1} years old!\".format(name,age))"
   ]
  },
  {
   "cell_type": "code",
   "execution_count": null,
   "id": "6ffbb4b9",
   "metadata": {},
   "outputs": [],
   "source": []
  },
  {
   "cell_type": "code",
   "execution_count": null,
   "id": "40672391",
   "metadata": {},
   "outputs": [],
   "source": []
  }
 ],
 "metadata": {
  "kernelspec": {
   "display_name": "Python 3 (ipykernel)",
   "language": "python",
   "name": "python3"
  },
  "language_info": {
   "codemirror_mode": {
    "name": "ipython",
    "version": 3
   },
   "file_extension": ".py",
   "mimetype": "text/x-python",
   "name": "python",
   "nbconvert_exporter": "python",
   "pygments_lexer": "ipython3",
   "version": "3.9.12"
  }
 },
 "nbformat": 4,
 "nbformat_minor": 5
}
